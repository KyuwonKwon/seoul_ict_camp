{
 "cells": [
  {
   "cell_type": "markdown",
   "metadata": {},
   "source": [
    "문자열의 비교방법\n",
    "\n",
    "1.\n",
    "-두 문자열의 첫 번째 문자를 비교\n",
    "-두 문자열의 첫 번째 문자가 다르면, 첫 번째 문자의 \"아스키 코드\" 값을 비교하여 문자열의 크기를 결정\n",
    "-두 문자열의 첫 번째 문자가 같으면, 두 번째 문자를 비교~~~\n",
    "-위 과정을 반복하여 두 문자열의 끝까지 비교\n",
    "-두 문자열이 끝까지 비교하여 모두 같으면, 두 문자열은 동일한 문자열.\n",
    "\n",
    "\n",
    "예를 들어, \"hello\"와 \"world\"를 비교하면 다음과 같은 과정을 거침\n",
    "-두 문자열의 첫 번째 문자는 \"h\"와 \"w\"로 각각 아스키 코드 값으로 비교하면\n",
    "-\"h\"의 아스키 코드 값은 104, \"w\"의 아스키 코드 값은 119. 따라서 \"h\"가 \"w\"보다 작다.\n",
    "-두 문자열의 크기는 \"hello\"가 \"world\"보다 작다.\n",
    "-따라서 \"hello\"와 \"world\"는 동일하지 않은 문자열."
   ]
  },
  {
   "cell_type": "code",
   "execution_count": 4,
   "metadata": {},
   "outputs": [
    {
     "name": "stdout",
     "output_type": "stream",
     "text": [
      "[[104, 101, 108, 108, 111], [119, 111, 114, 108, 100]]\n"
     ]
    },
    {
     "data": {
      "text/plain": [
       "['world', 'hello']"
      ]
     },
     "execution_count": 4,
     "metadata": {},
     "output_type": "execute_result"
    }
   ],
   "source": [
    "l = [\"hello\", \"world\"]\n",
    "print([[ord(c) for c in s] for s in l]) # \"hello\"와 \"world\"의 첫 번째 부터 끝까지 아스키 코드 값을 출력해 본다.\n",
    "l.sort(reverse=True)                    # 내림차순으로 정렬\n",
    "print(l)                                # \"hello\"가 \"world\"보다 작으므로 \"['world', 'hello']\"가 출력 된다."
   ]
  },
  {
   "cell_type": "code",
   "execution_count": 8,
   "metadata": {},
   "outputs": [
    {
     "name": "stdout",
     "output_type": "stream",
     "text": [
      "30개의 문자가 제거되었고 중복이 없는 문자들은 다음과 같습니다.\n",
      "['P', 'n', 'e', 'u', 'm', 'o', 'l', 't', 'r', 'a', 'i', 'c', 's', 'p', 'v']\n"
     ]
    }
   ],
   "source": [
    "s = \"Pneumonoultramicroscopicsilicovolcanoconiosis\"\n",
    "deduplicate = []\n",
    "for c in s:\n",
    "    if c in deduplicate:\n",
    "        continue\n",
    "    else:\n",
    "        deduplicate.append(c)\n",
    "print(\"{}개의 문자가 제거되었고 중복이 없는 문자들은 다음과 같습니다.\\n{}\".format(len(s)-len(deduplicate),deduplicate))"
   ]
  }
 ],
 "metadata": {
  "kernelspec": {
   "display_name": "Python 3",
   "language": "python",
   "name": "python3"
  },
  "language_info": {
   "codemirror_mode": {
    "name": "ipython",
    "version": 3
   },
   "file_extension": ".py",
   "mimetype": "text/x-python",
   "name": "python",
   "nbconvert_exporter": "python",
   "pygments_lexer": "ipython3",
   "version": "3.10.6"
  },
  "orig_nbformat": 4
 },
 "nbformat": 4,
 "nbformat_minor": 2
}
