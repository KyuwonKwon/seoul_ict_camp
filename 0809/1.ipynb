{
 "cells": [
  {
   "cell_type": "markdown",
   "metadata": {},
   "source": [
    "## HTTP 헤더 Keep-Alive 의 역할\n",
    ">HTTP로 통신하면 연결, 연결해제 사이에 요청과 응답이 오가게 되는데 이때 지속적인 연결을 가능하게 해준다.\n",
    "\n",
    ">이를 통해 \"연결-> 요청-> 응답-> 연결해제\"가 반복되는 것이 아닌\n",
    "\n",
    ">\"연결-> 요청-> 응답-> 요청-> 응답-> 요청-> 응답-> 연결해제\"와 같이 불필요한 과정을 생략하고 시간과 자원을 절약할 수 있게된다."
   ]
  },
  {
   "cell_type": "markdown",
   "metadata": {},
   "source": [
    "## JSON이란?\n",
    "#### JSON은 \"JavaScript Object Notation\"의 약자로, 데이터를 교환하는 데 사용되는 가벼운 텍스트 기반 파일형식이다. JSON은 파이썬의 딕셔너리처럼 속성-값 (key-value) 쌍을 사용하여 데이터를 구성하며, 각 쌍은 콤마로 구분되고 중괄호({}) 내에 위치치킨다.\n",
    "\n",
    "다음은 JSON의 기본 데이터 타입이다:\n",
    "<ul>\n",
    "    <li>\n",
    "        문자열 (string) - 따옴표 안에 문자를 포함<br>\n",
    "        예: \"Hello world!\"\n",
    "    </li>\n",
    "    <li>\n",
    "        숫자 (number) - 정수와 부동소수점을 포함<br>\n",
    "        예: 42, 3.14;\n",
    "    </li>\n",
    "    <li>\n",
    "        불리언 (boolean) - true 또는 false\n",
    "    </li>\n",
    "    <li>\n",
    "        배열 (array) - 대괄호([]) 안에 값을 포함하며, 값 사이에 콤마로 구분<br>\n",
    "        예: [1, 2, 3];\n",
    "    </li>\n",
    "    <li>\n",
    "        객체 (object) - 중괄호({}) 안에 속성-값 쌍을 포함하며, 쌍 사이에 콤마로 구분<br>\n",
    "        예: {\"name\": \"John\", \"age\": 30};\n",
    "    </li>\n",
    "    <li>\n",
    "        null - 특수한 값으로, 값이 없음을 나타낸다.\n",
    "    </li>\n",
    "</ul>\n",
    "JSON은 원래 JavaScript에서 생성되었으나 현재 많은 언어에서 사용되며, 그 신속성과 간결함 덕분에 API와 웹 서비스 간 통신에서 널리 사용된다. 대부분의 프로그래밍 언어에서는 특별한 라이브러리가 필요 없이 JSON 형식의 데이터를 쉽게 처리할 수 있는 도구를 제공하고있다.\n",
    "\n",
    "### XML이 JSON으로 대체된이유\n",
    "\n",
    " XML은 시작 태그와 종료 태그가 있어 길고 확장성이 떨어지는 반면, JSON은 대부분의 프로그래밍 언어에서 지원하는 데이터 구조와 유사하다. 이러한 특징은 개발자들이 JSON 데이터를 쉽게 파싱하고 이해할 수 있게 해준다 또한 더 작고 간견한 구조로 파싱하는 데 걸리는 시간이 훨씬 적으며, 이는 특히 네트워크 대역폭이 제한된 경우나 다량의 데이터를 주고받아야 하는 상황에 더 효율적이었다.\n"
   ]
  },
  {
   "cell_type": "code",
   "execution_count": 1,
   "metadata": {},
   "outputs": [],
   "source": [
    "# JSON 쓰기\n",
    "\n",
    "import json\n",
    "\n",
    "data = {\n",
    "    'name': 'John Doe',\n",
    "    'age': 30,\n",
    "    'city': 'New York'\n",
    "}\n",
    "\n",
    "# JSON 파일로 저장\n",
    "with open('output.json', 'w', encoding='utf-8') as json_file:\n",
    "    json.dump(data, json_file, ensure_ascii=False, indent=4)  # 파이썬 객체를 JSON 형식으로 파일에 저장\n"
   ]
  },
  {
   "cell_type": "code",
   "execution_count": 14,
   "metadata": {},
   "outputs": [
    {
     "name": "stdout",
     "output_type": "stream",
     "text": [
      "{'name': 'John Doe', 'age': 30, 'city': 'New York'}\n",
      "John Doe\n",
      "30\n",
      "New York\n",
      "python_web_backend_developer\n",
      "{\n",
      "    \"name\": \"John Doe\",\n",
      "    \"age\": 30,\n",
      "    \"city\": \"New York\",\n",
      "    \"job\": \"python_web_backend_developer\"\n",
      "}\n",
      "{'name': 'John Doe', 'age': 30, 'city': 'New York', 'job': 'python_web_backend_developer'}\n"
     ]
    }
   ],
   "source": [
    "# JSON 읽기\n",
    "with open('output.json', 'r', encoding='utf-8') as json_file:\n",
    "    read_data = json.load(json_file)  # JSON 데이터를 파이썬 객체로 변환\n",
    "\n",
    "# json.load를 통해 받아온 값은 딕셔너리처럼 사용가능하다.\n",
    "print(read_data)\n",
    "read_data[\"job\"] = \"python_web_backend_developer\"\n",
    "print(read_data[\"name\"])\n",
    "print(read_data[\"age\"])\n",
    "print(read_data[\"city\"])\n",
    "print(read_data[\"job\"])\n",
    "\n",
    "# python에서 JSON.stringify()\n",
    "json_string = json.dumps(read_data, ensure_ascii=False, indent=4)\n",
    "print(json_string)\n",
    "# python에서 JSON.parse()\n",
    "python_obj = json.loads(json_string)\n",
    "print(python_obj)\n"
   ]
  },
  {
   "cell_type": "code",
   "execution_count": null,
   "metadata": {},
   "outputs": [],
   "source": []
  }
 ],
 "metadata": {
  "kernelspec": {
   "display_name": "Python 3",
   "language": "python",
   "name": "python3"
  },
  "language_info": {
   "codemirror_mode": {
    "name": "ipython",
    "version": 3
   },
   "file_extension": ".py",
   "mimetype": "text/x-python",
   "name": "python",
   "nbconvert_exporter": "python",
   "pygments_lexer": "ipython3",
   "version": "3.11.4"
  },
  "orig_nbformat": 4
 },
 "nbformat": 4,
 "nbformat_minor": 2
}
